{
 "cells": [
  {
   "cell_type": "markdown",
   "id": "cae0ef1f",
   "metadata": {},
   "source": [
    "1. How do you concatenate two strings in Python?\n"
   ]
  },
  {
   "cell_type": "code",
   "execution_count": null,
   "id": "187c02f3",
   "metadata": {
    "scrolled": true
   },
   "outputs": [],
   "source": [
    "User_name = \"Chandan Singh Rawat\"\n",
    "User_course = \"Data Analytic\"\n",
    "User_Details = User_name + ' :- ' + User_course + ':'\n",
    "print(User_Details)"
   ]
  },
  {
   "cell_type": "markdown",
   "id": "435c6ea2",
   "metadata": {},
   "source": [
    "2. What is the difference between the + operator and the join() method for\n",
    "   concatenating strings?\n",
    "   "
   ]
  },
  {
   "cell_type": "markdown",
   "id": "1e620488",
   "metadata": {},
   "source": [
    "If we are concatenating a large number of strings, using the ‘+’ operator so it can be slow and inefficient because each ‘+’ operation creates a new string and copies the old strings into it, which takes time and memory. but the .join () method is a more efficient because it only creates a new string once."
   ]
  },
  {
   "cell_type": "code",
   "execution_count": null,
   "id": "affcaf71",
   "metadata": {},
   "outputs": [],
   "source": [
    "user_name = \"Chandan Singh Rawat\"\n",
    "user_course = \"Data Analytic\"\n",
    "user_details = \" \".join([user_name, user_course])\n",
    "print(user_details)"
   ]
  },
  {
   "cell_type": "code",
   "execution_count": null,
   "id": "94b06aa6",
   "metadata": {},
   "outputs": [],
   "source": [
    "string1 = [\"hello\",\"my\", \"name\", \"is\", \"Chandan Singh Rawat\"]\n",
    "join = \" \".join(string1)\n",
    "print(join)"
   ]
  },
  {
   "cell_type": "markdown",
   "id": "7e1ef490",
   "metadata": {},
   "source": [
    "3. How do you access individual characters in a string?\n"
   ]
  },
  {
   "cell_type": "code",
   "execution_count": null,
   "id": "11e5af65",
   "metadata": {},
   "outputs": [],
   "source": [
    "#we can access individual characters in a string by using indexing (positive and negative). Here’s how it works:\n",
    "\n",
    "my_string = \"Chandan Singh Rawat\"\n",
    "indexing = my_string[8:13:]\n",
    "print(indexing)"
   ]
  },
  {
   "cell_type": "code",
   "execution_count": null,
   "id": "7c4dc51d",
   "metadata": {},
   "outputs": [],
   "source": [
    "my_string = \"Chandan Singh Rawat\"\n",
    "negative_indexing = my_string[-19:-12:]\n",
    "print(negative_indexing)"
   ]
  },
  {
   "cell_type": "markdown",
   "id": "ff44c798",
   "metadata": {},
   "source": [
    "4. What method is used to find the length of a string in Python?\n"
   ]
  },
  {
   "cell_type": "code",
   "execution_count": null,
   "id": "8ded8f5a",
   "metadata": {},
   "outputs": [],
   "source": [
    "my_string = \"Chandan Singh Rawat\"\n",
    "print(len(my_string))"
   ]
  },
  {
   "cell_type": "code",
   "execution_count": null,
   "id": "4e5d82c9",
   "metadata": {},
   "outputs": [],
   "source": [
    "my_string = \"7042904626\"\n",
    "print(len(my_string))"
   ]
  },
  {
   "cell_type": "markdown",
   "id": "7a414d06",
   "metadata": {},
   "source": [
    "5. How can you convert a string to uppercase in Python?\n"
   ]
  },
  {
   "cell_type": "code",
   "execution_count": null,
   "id": "0db6b9f5",
   "metadata": {},
   "outputs": [],
   "source": [
    "my_string = \"Chandan Singh Rawat\"\n",
    "print(my_string.upper())"
   ]
  },
  {
   "cell_type": "markdown",
   "id": "bbb48c05",
   "metadata": {},
   "source": [
    "6. How can you convert a string to lowercase in Python?\n"
   ]
  },
  {
   "cell_type": "code",
   "execution_count": null,
   "id": "d43daea9",
   "metadata": {},
   "outputs": [],
   "source": [
    "my_string = \"CHANDAN SINGH RAWAT\"\n",
    "print(my_string.lower())"
   ]
  },
  {
   "cell_type": "markdown",
   "id": "1c7c56c2",
   "metadata": {},
   "source": [
    "7. What method is used to replace substrings within a string?\n"
   ]
  },
  {
   "cell_type": "code",
   "execution_count": null,
   "id": "4187a162",
   "metadata": {},
   "outputs": [],
   "source": [
    "string = \"Chandan Singh Rawat\"\n",
    "print(string.replace(\"Chandan\", \"Aman\"))"
   ]
  },
  {
   "cell_type": "markdown",
   "id": "975de5ce",
   "metadata": {},
   "source": [
    "8. How do you check if a string starts with a particular substring?\n"
   ]
  },
  {
   "cell_type": "code",
   "execution_count": 3,
   "id": "53d8f24a",
   "metadata": {},
   "outputs": [
    {
     "name": "stdout",
     "output_type": "stream",
     "text": [
      "True\n"
     ]
    }
   ],
   "source": [
    "string = \"Ducat Institute\"\n",
    "print(string.startswith(\"D\"))"
   ]
  },
  {
   "cell_type": "markdown",
   "id": "a890ca54",
   "metadata": {},
   "source": [
    "9. How do you check if a string ends with a particular substring?\n"
   ]
  },
  {
   "cell_type": "code",
   "execution_count": 5,
   "id": "c48bc4cb",
   "metadata": {},
   "outputs": [
    {
     "name": "stdout",
     "output_type": "stream",
     "text": [
      "True\n"
     ]
    }
   ],
   "source": [
    "my_string = \"I love my india\"\n",
    "print(my_string.endswith(\"a\"))"
   ]
  },
  {
   "cell_type": "markdown",
   "id": "e3232652",
   "metadata": {},
   "source": [
    "10. How can you remove leading and trailing whitespace from a string?"
   ]
  },
  {
   "cell_type": "code",
   "execution_count": 11,
   "id": "6012ec95",
   "metadata": {},
   "outputs": [
    {
     "name": "stdout",
     "output_type": "stream",
     "text": [
      "Ducat, Institute;\n"
     ]
    }
   ],
   "source": [
    "my_string = \"     Ducat, Institute;                  \"\n",
    "print(my_string.strip())"
   ]
  },
  {
   "cell_type": "markdown",
   "id": "3c2b81dc",
   "metadata": {},
   "source": [
    "11. What method is used to find the index of the first occurrence of a substring within a string?"
   ]
  },
  {
   "cell_type": "code",
   "execution_count": 18,
   "id": "11ffc89e",
   "metadata": {},
   "outputs": [
    {
     "name": "stdout",
     "output_type": "stream",
     "text": [
      "14\n"
     ]
    }
   ],
   "source": [
    "# i am using index method in this question.\n",
    "my_string = \"Chandan Singh Rawat\"\n",
    "print(my_string.index(\"Rawat\"))"
   ]
  },
  {
   "cell_type": "markdown",
   "id": "5c3d5569",
   "metadata": {},
   "source": [
    "12.  How can you count the number of occurrences of a substring within a string?"
   ]
  },
  {
   "cell_type": "code",
   "execution_count": 23,
   "id": "077c46eb",
   "metadata": {},
   "outputs": [
    {
     "name": "stdout",
     "output_type": "stream",
     "text": [
      "7\n"
     ]
    }
   ],
   "source": [
    "my_string = \"python is a progromming software use by companies for their work\"\n",
    "print(my_string.count(\"o\"))"
   ]
  },
  {
   "cell_type": "markdown",
   "id": "f649a752",
   "metadata": {},
   "source": [
    "13. How do you check if a string contains only alphabetic characters?\n"
   ]
  },
  {
   "cell_type": "code",
   "execution_count": 27,
   "id": "7488042e",
   "metadata": {},
   "outputs": [
    {
     "name": "stdout",
     "output_type": "stream",
     "text": [
      "True\n",
      "False\n",
      "False\n"
     ]
    }
   ],
   "source": [
    "var1 = \"chandan\"\n",
    "var2 = \"Rawat1234\"\n",
    "var3 = \"chandan \"\n",
    "print(var1.isalpha()) # output: True\n",
    "print(var2.isalpha()) # output: False (contains digits)\n",
    "print(var3.isalpha()) # output: False (contains space)"
   ]
  },
  {
   "cell_type": "markdown",
   "id": "eb0a6d0c",
   "metadata": {},
   "source": [
    "14. How do you check if a string contains only numeric characters?\n"
   ]
  },
  {
   "cell_type": "code",
   "execution_count": 30,
   "id": "a9e61028",
   "metadata": {},
   "outputs": [
    {
     "name": "stdout",
     "output_type": "stream",
     "text": [
      "True\n",
      "False\n",
      "False\n"
     ]
    }
   ],
   "source": [
    "var1 = \"123456\"\n",
    "var2 = \"string12\"\n",
    "var3 = \"12.3456789\"\n",
    "print(var1.isdigit()) # output: True\n",
    "print(var2.isdigit()) # output: False (contains alpha.)\n",
    "print(var3.isdigit()) # output: False (contains a dot)"
   ]
  },
  {
   "cell_type": "markdown",
   "id": "543c8ae1",
   "metadata": {},
   "source": [
    "15. How can you check if a string is a palindrome?"
   ]
  },
  {
   "cell_type": "code",
   "execution_count": 2,
   "id": "a1b4788d",
   "metadata": {},
   "outputs": [
    {
     "name": "stdout",
     "output_type": "stream",
     "text": [
      "radaR\n"
     ]
    }
   ],
   "source": [
    "my_string = \"Radar\"\n",
    "reversed_method = my_string[::-1]\n",
    "print(reversed_method)"
   ]
  },
  {
   "cell_type": "code",
   "execution_count": 1,
   "id": "e994fa7f",
   "metadata": {},
   "outputs": [
    {
     "name": "stdout",
     "output_type": "stream",
     "text": [
      "Enter a String Here:RADAR\n",
      "It's a palindrome\n"
     ]
    }
   ],
   "source": [
    "my_string = input(\"Enter a String Here:\")\n",
    "reversed_method = my_string[::-1]\n",
    "if reversed_method == my_string:\n",
    "    print(\"It's a palindrome\")\n",
    "else:\n",
    "    print(\"It's not a palindrome\")"
   ]
  },
  {
   "cell_type": "markdown",
   "id": "71c87f87",
   "metadata": {},
   "source": [
    "16. How can you reverse a string in Python?"
   ]
  },
  {
   "cell_type": "code",
   "execution_count": 2,
   "id": "8cddb209",
   "metadata": {},
   "outputs": [
    {
     "name": "stdout",
     "output_type": "stream",
     "text": [
      "TACUD fo tneduts a ma I\n"
     ]
    }
   ],
   "source": [
    "my_string = \"I am a student of DUCAT\"\n",
    "reversed_string = my_string[::-1]\n",
    "print(reversed_string)"
   ]
  },
  {
   "cell_type": "markdown",
   "id": "8ec88378",
   "metadata": {},
   "source": [
    "17. How do you format a string with placeholders for variable values?"
   ]
  },
  {
   "cell_type": "code",
   "execution_count": 4,
   "id": "086bc9b9",
   "metadata": {},
   "outputs": [
    {
     "name": "stdout",
     "output_type": "stream",
     "text": [
      "Hi boy who are you 'I am a student of Ducat' okay in which course you have 'I am student of Python course' thats good when you joined the Ducat 'I joined this classes last of may' okay thanks 'Welcome sir'\n"
     ]
    }
   ],
   "source": [
    "# Here are three types of format to do this activity.\n",
    "#Here is 1st %s method.\n",
    "string_1 = \"I am a student of Ducat\"\n",
    "string_2 = \"I am student of Python course\"\n",
    "string_3 = \"I joined this classes last of may\"\n",
    "string_4 = \"Welcome sir\"\n",
    "print(\"Hi boy who are you '%s' okay in which course you have '%s' thats good when you joined the Ducat '%s' okay thanks '%s'\"%(string_1,string_2,string_3,string_4))"
   ]
  },
  {
   "cell_type": "code",
   "execution_count": 3,
   "id": "03555812",
   "metadata": {},
   "outputs": [
    {
     "name": "stdout",
     "output_type": "stream",
     "text": [
      "Hi boy who are you 'I am a student of Ducat' okay in which course you have 'I am student of Python course' thats good when you joined the Ducat 'I joined this classes last of may' okay thanks 'Welcome sir'\n"
     ]
    }
   ],
   "source": [
    "# Here is 2nd method. {}\n",
    "string_1 = \"I am a student of Ducat\"\n",
    "string_2 = \"I am student of Python course\"\n",
    "string_3 = \"I joined this classes last of may\"\n",
    "string_4 = \"Welcome sir\"\n",
    "print(\"Hi boy who are you '{}' okay in which course you have '{}' thats good when you joined the Ducat '{}' okay thanks '{}'\".format(string_1,string_2,string_3,string_4))"
   ]
  },
  {
   "cell_type": "code",
   "execution_count": 4,
   "id": "08fdfc51",
   "metadata": {},
   "outputs": [
    {
     "name": "stdout",
     "output_type": "stream",
     "text": [
      "Hi boy who are you 'I am a student of Ducat' okay in which course you have 'I am student of Python course' thats good when you joined the Ducat 'I joined this classes last of may' okay thanks 'Welcome sir'\n"
     ]
    }
   ],
   "source": [
    "# Here is 3rd method. f\"{value}\n",
    "string_1 = \"I am a student of Ducat\"\n",
    "string_2 = \"I am student of Python course\"\n",
    "string_3 = \"I joined this classes last of may\"\n",
    "string_4 = \"Welcome sir\"\n",
    "print(f\"Hi boy who are you '{string_1}' okay in which course you have '{string_2}' thats good when you joined the Ducat '{string_3}' okay thanks '{string_4}'\")"
   ]
  },
  {
   "cell_type": "markdown",
   "id": "aece2bcf",
   "metadata": {},
   "source": [
    "18. How do you access a substring of a string using slicing?"
   ]
  },
  {
   "cell_type": "code",
   "execution_count": 13,
   "id": "5f31da46",
   "metadata": {},
   "outputs": [
    {
     "name": "stdout",
     "output_type": "stream",
     "text": [
      "Uttrakhand\n",
      " mfo trkad\n",
      "I am from Uttrakhand\n"
     ]
    }
   ],
   "source": [
    "# Here is a method to access a substring of a string using slicing.\n",
    "my_string = \"I am from Uttrakhand\"\n",
    "slicing_method1 = my_string[10:20]\n",
    "slicing_method2 = my_string[1:20:2]\n",
    "slicing_method3 = my_string[0:20:1]\n",
    "print(slicing_method1)\n",
    "print(slicing_method2)\n",
    "print(slicing_method3)"
   ]
  },
  {
   "cell_type": "markdown",
   "id": "d6a5ef20",
   "metadata": {},
   "source": [
    "19. How can you remove specific characters from a string in Python?"
   ]
  },
  {
   "cell_type": "code",
   "execution_count": 22,
   "id": "20be3a4c",
   "metadata": {},
   "outputs": [
    {
     "name": "stdout",
     "output_type": "stream",
     "text": [
      "Nandan\n"
     ]
    }
   ],
   "source": [
    "my_string = \"Chandan\"\n",
    "remove_method = my_string.replace(\"Ch\",\"N\")\n",
    "print(remove_method)"
   ]
  },
  {
   "cell_type": "code",
   "execution_count": 15,
   "id": "59ac49b9",
   "metadata": {},
   "outputs": [
    {
     "name": "stdout",
     "output_type": "stream",
     "text": [
      "My name is Chandan Singh\n"
     ]
    }
   ],
   "source": [
    "my_string = \"My name is Chandan Singh and your\"\n",
    "remove_method = my_string.strip(\"and your\")\n",
    "print(remove_method)"
   ]
  },
  {
   "cell_type": "markdown",
   "id": "be6b9356",
   "metadata": {},
   "source": []
  },
  {
   "cell_type": "markdown",
   "id": "bdf1d944",
   "metadata": {},
   "source": [
    "\"\"\" My all Python string assignment completed - Thanku Rohit Sir, \"\"\"\n",
    "\n",
    "\n",
    "\n",
    "\n"
   ]
  },
  {
   "cell_type": "code",
   "execution_count": null,
   "id": "708eb87d",
   "metadata": {},
   "outputs": [],
   "source": []
  },
  {
   "cell_type": "code",
   "execution_count": null,
   "id": "2ed1ba77",
   "metadata": {},
   "outputs": [],
   "source": []
  },
  {
   "cell_type": "code",
   "execution_count": null,
   "id": "c85205e4",
   "metadata": {},
   "outputs": [],
   "source": []
  },
  {
   "cell_type": "code",
   "execution_count": null,
   "id": "0028f52b",
   "metadata": {},
   "outputs": [],
   "source": []
  }
 ],
 "metadata": {
  "kernelspec": {
   "display_name": "Python 3 (ipykernel)",
   "language": "python",
   "name": "python3"
  },
  "language_info": {
   "codemirror_mode": {
    "name": "ipython",
    "version": 3
   },
   "file_extension": ".py",
   "mimetype": "text/x-python",
   "name": "python",
   "nbconvert_exporter": "python",
   "pygments_lexer": "ipython3",
   "version": "3.11.5"
  }
 },
 "nbformat": 4,
 "nbformat_minor": 5
}
